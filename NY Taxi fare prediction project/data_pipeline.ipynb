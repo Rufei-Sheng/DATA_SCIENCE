{
 "cells": [
  {
   "cell_type": "code",
   "execution_count": 2,
   "metadata": {
    "scrolled": true
   },
   "outputs": [
    {
     "data": {
      "text/html": [
       "\n",
       "        <div>\n",
       "            <p><b>SparkContext</b></p>\n",
       "\n",
       "            <p><a href=\"http://192.168.0.113:4048\">Spark UI</a></p>\n",
       "\n",
       "            <dl>\n",
       "              <dt>Version</dt>\n",
       "                <dd><code>v2.4.0</code></dd>\n",
       "              <dt>Master</dt>\n",
       "                <dd><code>local[*]</code></dd>\n",
       "              <dt>AppName</dt>\n",
       "                <dd><code>PySparkShell</code></dd>\n",
       "            </dl>\n",
       "        </div>\n",
       "        "
      ],
      "text/plain": [
       "<SparkContext master=local[*] appName=PySparkShell>"
      ]
     },
     "execution_count": 2,
     "metadata": {},
     "output_type": "execute_result"
    }
   ],
   "source": [
    "sc"
   ]
  },
  {
   "cell_type": "code",
   "execution_count": 255,
   "metadata": {},
   "outputs": [],
   "source": [
    "import pandas as pd\n",
    "from operator import add"
   ]
  },
  {
   "cell_type": "markdown",
   "metadata": {},
   "source": [
    "## Calculate total trip amount in each hour each day"
   ]
  },
  {
   "cell_type": "code",
   "execution_count": 286,
   "metadata": {},
   "outputs": [],
   "source": [
    "traindata = sc.textFile('2014_nyc_taxi_trips_neighbor_droppedna.csv').cache()"
   ]
  },
  {
   "cell_type": "code",
   "execution_count": 205,
   "metadata": {},
   "outputs": [
    {
     "data": {
      "text/plain": [
       "[(0, ''),\n",
       " (1, 'fare_amount'),\n",
       " (2, 'pickup_datetime'),\n",
       " (3, 'passenger_count'),\n",
       " (4, 'weekday'),\n",
       " (5, 'weekend'),\n",
       " (6, 'day_night'),\n",
       " (7, 'distance'),\n",
       " (8, 'neighborhood')]"
      ]
     },
     "execution_count": 205,
     "metadata": {},
     "output_type": "execute_result"
    }
   ],
   "source": [
    "list(enumerate(traindata.first().split(',')))"
   ]
  },
  {
   "cell_type": "code",
   "execution_count": 208,
   "metadata": {},
   "outputs": [],
   "source": [
    "def HourAmountHoliday(pid, record):\n",
    "    if pid == 0:\n",
    "        next(record)\n",
    "        \n",
    "    import csv\n",
    "    from operator import add\n",
    "    readers = csv.reader(record)\n",
    "    count = {}\n",
    "    holidaylist = ['2014-01-01', '2014-01-20', '2014-02-17', '2014-04-16', '2014-05-11', '2014-05-26', '2014-06-15'\\\n",
    "                       , '2014-07-04', '2014-09-01', '2014-10-13', '2014-11-11', '2014-11-27', '2014-11-28', '2014-12-15'\\\n",
    "                       , '2014-12-26']\n",
    "    for row in readers:\n",
    "        datehr = row[2].split(':')[0].replace(' ', '-')\n",
    "        date = row[2].split(' ')[0]\n",
    "        holiday = None\n",
    "        if date in holidaylist:\n",
    "            holiday = 1\n",
    "        else: holiday = 0\n",
    "        count[datehr] = list(map(add, count.get(datehr, (0, holiday)), (1,0)))\n",
    "    return count.items()"
   ]
  },
  {
   "cell_type": "code",
   "execution_count": 266,
   "metadata": {},
   "outputs": [],
   "source": [
    "outcome4 = traindata.mapPartitionsWithIndex(HourAmountHoliday).map(lambda x: ((x[0], x[1][1]), x[1][0])).reduceByKey(add)\\\n",
    ".map(lambda x: (x[0][0], x[1], x[0][1])).collect()"
   ]
  },
  {
   "cell_type": "code",
   "execution_count": 268,
   "metadata": {},
   "outputs": [
    {
     "data": {
      "text/plain": [
       "[('2014-07-21-14', 1095, 0),\n",
       " ('2014-05-09-09', 1221, 0),\n",
       " ('2014-03-03-23', 908, 0)]"
      ]
     },
     "execution_count": 268,
     "metadata": {},
     "output_type": "execute_result"
    }
   ],
   "source": [
    "outcome4[:3]"
   ]
  },
  {
   "cell_type": "code",
   "execution_count": 269,
   "metadata": {},
   "outputs": [],
   "source": [
    "outcome4df = pd.DataFrame(outcome4, columns=['datekey','tripPerHour', 'holiday'])"
   ]
  },
  {
   "cell_type": "code",
   "execution_count": 270,
   "metadata": {},
   "outputs": [
    {
     "data": {
      "text/plain": [
       "7986341"
      ]
     },
     "execution_count": 270,
     "metadata": {},
     "output_type": "execute_result"
    }
   ],
   "source": [
    "sum(outcome4df.tripPerHour)"
   ]
  },
  {
   "cell_type": "code",
   "execution_count": 273,
   "metadata": {
    "scrolled": false
   },
   "outputs": [
    {
     "data": {
      "text/html": [
       "<div>\n",
       "<style scoped>\n",
       "    .dataframe tbody tr th:only-of-type {\n",
       "        vertical-align: middle;\n",
       "    }\n",
       "\n",
       "    .dataframe tbody tr th {\n",
       "        vertical-align: top;\n",
       "    }\n",
       "\n",
       "    .dataframe thead th {\n",
       "        text-align: right;\n",
       "    }\n",
       "</style>\n",
       "<table border=\"1\" class=\"dataframe\">\n",
       "  <thead>\n",
       "    <tr style=\"text-align: right;\">\n",
       "      <th></th>\n",
       "      <th>datekey</th>\n",
       "      <th>tripPerHour</th>\n",
       "      <th>holiday</th>\n",
       "    </tr>\n",
       "  </thead>\n",
       "  <tbody>\n",
       "    <tr>\n",
       "      <th>1950</th>\n",
       "      <td>2014-01-01-00</td>\n",
       "      <td>1489</td>\n",
       "      <td>1</td>\n",
       "    </tr>\n",
       "    <tr>\n",
       "      <th>8381</th>\n",
       "      <td>2014-01-01-01</td>\n",
       "      <td>1434</td>\n",
       "      <td>1</td>\n",
       "    </tr>\n",
       "    <tr>\n",
       "      <th>2479</th>\n",
       "      <td>2014-01-01-02</td>\n",
       "      <td>1656</td>\n",
       "      <td>1</td>\n",
       "    </tr>\n",
       "    <tr>\n",
       "      <th>5174</th>\n",
       "      <td>2014-01-01-03</td>\n",
       "      <td>1155</td>\n",
       "      <td>1</td>\n",
       "    </tr>\n",
       "    <tr>\n",
       "      <th>6818</th>\n",
       "      <td>2014-01-01-04</td>\n",
       "      <td>900</td>\n",
       "      <td>1</td>\n",
       "    </tr>\n",
       "  </tbody>\n",
       "</table>\n",
       "</div>"
      ],
      "text/plain": [
       "            datekey  tripPerHour  holiday\n",
       "1950  2014-01-01-00         1489        1\n",
       "8381  2014-01-01-01         1434        1\n",
       "2479  2014-01-01-02         1656        1\n",
       "5174  2014-01-01-03         1155        1\n",
       "6818  2014-01-01-04          900        1"
      ]
     },
     "execution_count": 273,
     "metadata": {},
     "output_type": "execute_result"
    }
   ],
   "source": [
    "outcome4df.sort_values(by='datekey').head()"
   ]
  },
  {
   "cell_type": "markdown",
   "metadata": {},
   "source": [
    "## Merge with main dataset"
   ]
  },
  {
   "cell_type": "code",
   "execution_count": 237,
   "metadata": {},
   "outputs": [
    {
     "data": {
      "text/html": [
       "<div>\n",
       "<style scoped>\n",
       "    .dataframe tbody tr th:only-of-type {\n",
       "        vertical-align: middle;\n",
       "    }\n",
       "\n",
       "    .dataframe tbody tr th {\n",
       "        vertical-align: top;\n",
       "    }\n",
       "\n",
       "    .dataframe thead th {\n",
       "        text-align: right;\n",
       "    }\n",
       "</style>\n",
       "<table border=\"1\" class=\"dataframe\">\n",
       "  <thead>\n",
       "    <tr style=\"text-align: right;\">\n",
       "      <th></th>\n",
       "      <th>Unnamed: 0</th>\n",
       "      <th>fare_amount</th>\n",
       "      <th>pickup_datetime</th>\n",
       "      <th>passenger_count</th>\n",
       "      <th>weekday</th>\n",
       "      <th>weekend</th>\n",
       "      <th>day_night</th>\n",
       "      <th>distance</th>\n",
       "      <th>neighborhood</th>\n",
       "    </tr>\n",
       "  </thead>\n",
       "  <tbody>\n",
       "    <tr>\n",
       "      <th>0</th>\n",
       "      <td>0</td>\n",
       "      <td>12.5</td>\n",
       "      <td>2014-02-19 07:22:00</td>\n",
       "      <td>1</td>\n",
       "      <td>2</td>\n",
       "      <td>0</td>\n",
       "      <td>1</td>\n",
       "      <td>1.619554</td>\n",
       "      <td>('Theater District', 'Gramercy')</td>\n",
       "    </tr>\n",
       "    <tr>\n",
       "      <th>1</th>\n",
       "      <td>1</td>\n",
       "      <td>4.0</td>\n",
       "      <td>2014-12-06 20:36:22</td>\n",
       "      <td>1</td>\n",
       "      <td>5</td>\n",
       "      <td>1</td>\n",
       "      <td>0</td>\n",
       "      <td>0.247719</td>\n",
       "      <td>('Murray Hill', 'Midtown')</td>\n",
       "    </tr>\n",
       "    <tr>\n",
       "      <th>2</th>\n",
       "      <td>2</td>\n",
       "      <td>5.5</td>\n",
       "      <td>2014-02-19 16:03:00</td>\n",
       "      <td>1</td>\n",
       "      <td>2</td>\n",
       "      <td>0</td>\n",
       "      <td>1</td>\n",
       "      <td>0.541562</td>\n",
       "      <td>('Midtown', 'Theater District')</td>\n",
       "    </tr>\n",
       "    <tr>\n",
       "      <th>3</th>\n",
       "      <td>3</td>\n",
       "      <td>5.0</td>\n",
       "      <td>2014-07-16 10:57:00</td>\n",
       "      <td>6</td>\n",
       "      <td>2</td>\n",
       "      <td>0</td>\n",
       "      <td>1</td>\n",
       "      <td>0.267995</td>\n",
       "      <td>('Chelsea', 'Chelsea')</td>\n",
       "    </tr>\n",
       "    <tr>\n",
       "      <th>4</th>\n",
       "      <td>4</td>\n",
       "      <td>7.0</td>\n",
       "      <td>2014-05-01 09:12:00</td>\n",
       "      <td>6</td>\n",
       "      <td>3</td>\n",
       "      <td>0</td>\n",
       "      <td>1</td>\n",
       "      <td>0.901087</td>\n",
       "      <td>('Upper East Side', 'Upper West Side')</td>\n",
       "    </tr>\n",
       "  </tbody>\n",
       "</table>\n",
       "</div>"
      ],
      "text/plain": [
       "   Unnamed: 0  fare_amount      pickup_datetime  passenger_count  weekday  \\\n",
       "0           0         12.5  2014-02-19 07:22:00                1        2   \n",
       "1           1          4.0  2014-12-06 20:36:22                1        5   \n",
       "2           2          5.5  2014-02-19 16:03:00                1        2   \n",
       "3           3          5.0  2014-07-16 10:57:00                6        2   \n",
       "4           4          7.0  2014-05-01 09:12:00                6        3   \n",
       "\n",
       "   weekend  day_night  distance                            neighborhood  \n",
       "0        0          1  1.619554        ('Theater District', 'Gramercy')  \n",
       "1        1          0  0.247719              ('Murray Hill', 'Midtown')  \n",
       "2        0          1  0.541562         ('Midtown', 'Theater District')  \n",
       "3        0          1  0.267995                  ('Chelsea', 'Chelsea')  \n",
       "4        0          1  0.901087  ('Upper East Side', 'Upper West Side')  "
      ]
     },
     "execution_count": 237,
     "metadata": {},
     "output_type": "execute_result"
    }
   ],
   "source": [
    "traindf = pd.read_csv('2014_nyc_taxi_trips_neighbor_droppedna.csv')\n",
    "traindf.head()"
   ]
  },
  {
   "cell_type": "code",
   "execution_count": 238,
   "metadata": {},
   "outputs": [
    {
     "data": {
      "text/plain": [
       "(7986341, 9)"
      ]
     },
     "execution_count": 238,
     "metadata": {},
     "output_type": "execute_result"
    }
   ],
   "source": [
    "traindf.shape"
   ]
  },
  {
   "cell_type": "code",
   "execution_count": 277,
   "metadata": {},
   "outputs": [],
   "source": [
    "traincsv = traindf.copy()"
   ]
  },
  {
   "cell_type": "code",
   "execution_count": 278,
   "metadata": {},
   "outputs": [
    {
     "data": {
      "text/plain": [
       "(7986341, 9)"
      ]
     },
     "execution_count": 278,
     "metadata": {},
     "output_type": "execute_result"
    }
   ],
   "source": [
    "traincsv.shape"
   ]
  },
  {
   "cell_type": "code",
   "execution_count": 279,
   "metadata": {},
   "outputs": [
    {
     "data": {
      "text/html": [
       "<div>\n",
       "<style scoped>\n",
       "    .dataframe tbody tr th:only-of-type {\n",
       "        vertical-align: middle;\n",
       "    }\n",
       "\n",
       "    .dataframe tbody tr th {\n",
       "        vertical-align: top;\n",
       "    }\n",
       "\n",
       "    .dataframe thead th {\n",
       "        text-align: right;\n",
       "    }\n",
       "</style>\n",
       "<table border=\"1\" class=\"dataframe\">\n",
       "  <thead>\n",
       "    <tr style=\"text-align: right;\">\n",
       "      <th></th>\n",
       "      <th>Unnamed: 0</th>\n",
       "      <th>fare_amount</th>\n",
       "      <th>pickup_datetime</th>\n",
       "      <th>passenger_count</th>\n",
       "      <th>weekday</th>\n",
       "      <th>weekend</th>\n",
       "      <th>day_night</th>\n",
       "      <th>distance</th>\n",
       "      <th>neighborhood</th>\n",
       "    </tr>\n",
       "  </thead>\n",
       "  <tbody>\n",
       "    <tr>\n",
       "      <th>0</th>\n",
       "      <td>0</td>\n",
       "      <td>12.5</td>\n",
       "      <td>2014-02-19 07:22:00</td>\n",
       "      <td>1</td>\n",
       "      <td>2</td>\n",
       "      <td>0</td>\n",
       "      <td>1</td>\n",
       "      <td>1.619554</td>\n",
       "      <td>('Theater District', 'Gramercy')</td>\n",
       "    </tr>\n",
       "    <tr>\n",
       "      <th>1</th>\n",
       "      <td>1</td>\n",
       "      <td>4.0</td>\n",
       "      <td>2014-12-06 20:36:22</td>\n",
       "      <td>1</td>\n",
       "      <td>5</td>\n",
       "      <td>1</td>\n",
       "      <td>0</td>\n",
       "      <td>0.247719</td>\n",
       "      <td>('Murray Hill', 'Midtown')</td>\n",
       "    </tr>\n",
       "    <tr>\n",
       "      <th>2</th>\n",
       "      <td>2</td>\n",
       "      <td>5.5</td>\n",
       "      <td>2014-02-19 16:03:00</td>\n",
       "      <td>1</td>\n",
       "      <td>2</td>\n",
       "      <td>0</td>\n",
       "      <td>1</td>\n",
       "      <td>0.541562</td>\n",
       "      <td>('Midtown', 'Theater District')</td>\n",
       "    </tr>\n",
       "    <tr>\n",
       "      <th>3</th>\n",
       "      <td>3</td>\n",
       "      <td>5.0</td>\n",
       "      <td>2014-07-16 10:57:00</td>\n",
       "      <td>6</td>\n",
       "      <td>2</td>\n",
       "      <td>0</td>\n",
       "      <td>1</td>\n",
       "      <td>0.267995</td>\n",
       "      <td>('Chelsea', 'Chelsea')</td>\n",
       "    </tr>\n",
       "    <tr>\n",
       "      <th>4</th>\n",
       "      <td>4</td>\n",
       "      <td>7.0</td>\n",
       "      <td>2014-05-01 09:12:00</td>\n",
       "      <td>6</td>\n",
       "      <td>3</td>\n",
       "      <td>0</td>\n",
       "      <td>1</td>\n",
       "      <td>0.901087</td>\n",
       "      <td>('Upper East Side', 'Upper West Side')</td>\n",
       "    </tr>\n",
       "  </tbody>\n",
       "</table>\n",
       "</div>"
      ],
      "text/plain": [
       "   Unnamed: 0  fare_amount      pickup_datetime  passenger_count  weekday  \\\n",
       "0           0         12.5  2014-02-19 07:22:00                1        2   \n",
       "1           1          4.0  2014-12-06 20:36:22                1        5   \n",
       "2           2          5.5  2014-02-19 16:03:00                1        2   \n",
       "3           3          5.0  2014-07-16 10:57:00                6        2   \n",
       "4           4          7.0  2014-05-01 09:12:00                6        3   \n",
       "\n",
       "   weekend  day_night  distance                            neighborhood  \n",
       "0        0          1  1.619554        ('Theater District', 'Gramercy')  \n",
       "1        1          0  0.247719              ('Murray Hill', 'Midtown')  \n",
       "2        0          1  0.541562         ('Midtown', 'Theater District')  \n",
       "3        0          1  0.267995                  ('Chelsea', 'Chelsea')  \n",
       "4        0          1  0.901087  ('Upper East Side', 'Upper West Side')  "
      ]
     },
     "execution_count": 279,
     "metadata": {},
     "output_type": "execute_result"
    }
   ],
   "source": [
    "traincsv.head()"
   ]
  },
  {
   "cell_type": "code",
   "execution_count": 280,
   "metadata": {
    "scrolled": false
   },
   "outputs": [],
   "source": [
    "traincsv['datekey'] = traincsv['pickup_datetime']"
   ]
  },
  {
   "cell_type": "code",
   "execution_count": 281,
   "metadata": {},
   "outputs": [],
   "source": [
    "traincsv['datekey'] = traincsv['datekey'].map(lambda x: x.split(':')[0].replace(' ', '-'))"
   ]
  },
  {
   "cell_type": "code",
   "execution_count": 282,
   "metadata": {
    "scrolled": false
   },
   "outputs": [
    {
     "data": {
      "text/html": [
       "<div>\n",
       "<style scoped>\n",
       "    .dataframe tbody tr th:only-of-type {\n",
       "        vertical-align: middle;\n",
       "    }\n",
       "\n",
       "    .dataframe tbody tr th {\n",
       "        vertical-align: top;\n",
       "    }\n",
       "\n",
       "    .dataframe thead th {\n",
       "        text-align: right;\n",
       "    }\n",
       "</style>\n",
       "<table border=\"1\" class=\"dataframe\">\n",
       "  <thead>\n",
       "    <tr style=\"text-align: right;\">\n",
       "      <th></th>\n",
       "      <th>Unnamed: 0</th>\n",
       "      <th>fare_amount</th>\n",
       "      <th>pickup_datetime</th>\n",
       "      <th>passenger_count</th>\n",
       "      <th>weekday</th>\n",
       "      <th>weekend</th>\n",
       "      <th>day_night</th>\n",
       "      <th>distance</th>\n",
       "      <th>neighborhood</th>\n",
       "      <th>datekey</th>\n",
       "    </tr>\n",
       "  </thead>\n",
       "  <tbody>\n",
       "    <tr>\n",
       "      <th>0</th>\n",
       "      <td>0</td>\n",
       "      <td>12.5</td>\n",
       "      <td>2014-02-19 07:22:00</td>\n",
       "      <td>1</td>\n",
       "      <td>2</td>\n",
       "      <td>0</td>\n",
       "      <td>1</td>\n",
       "      <td>1.619554</td>\n",
       "      <td>('Theater District', 'Gramercy')</td>\n",
       "      <td>2014-02-19-07</td>\n",
       "    </tr>\n",
       "    <tr>\n",
       "      <th>1</th>\n",
       "      <td>1</td>\n",
       "      <td>4.0</td>\n",
       "      <td>2014-12-06 20:36:22</td>\n",
       "      <td>1</td>\n",
       "      <td>5</td>\n",
       "      <td>1</td>\n",
       "      <td>0</td>\n",
       "      <td>0.247719</td>\n",
       "      <td>('Murray Hill', 'Midtown')</td>\n",
       "      <td>2014-12-06-20</td>\n",
       "    </tr>\n",
       "    <tr>\n",
       "      <th>2</th>\n",
       "      <td>2</td>\n",
       "      <td>5.5</td>\n",
       "      <td>2014-02-19 16:03:00</td>\n",
       "      <td>1</td>\n",
       "      <td>2</td>\n",
       "      <td>0</td>\n",
       "      <td>1</td>\n",
       "      <td>0.541562</td>\n",
       "      <td>('Midtown', 'Theater District')</td>\n",
       "      <td>2014-02-19-16</td>\n",
       "    </tr>\n",
       "    <tr>\n",
       "      <th>3</th>\n",
       "      <td>3</td>\n",
       "      <td>5.0</td>\n",
       "      <td>2014-07-16 10:57:00</td>\n",
       "      <td>6</td>\n",
       "      <td>2</td>\n",
       "      <td>0</td>\n",
       "      <td>1</td>\n",
       "      <td>0.267995</td>\n",
       "      <td>('Chelsea', 'Chelsea')</td>\n",
       "      <td>2014-07-16-10</td>\n",
       "    </tr>\n",
       "    <tr>\n",
       "      <th>4</th>\n",
       "      <td>4</td>\n",
       "      <td>7.0</td>\n",
       "      <td>2014-05-01 09:12:00</td>\n",
       "      <td>6</td>\n",
       "      <td>3</td>\n",
       "      <td>0</td>\n",
       "      <td>1</td>\n",
       "      <td>0.901087</td>\n",
       "      <td>('Upper East Side', 'Upper West Side')</td>\n",
       "      <td>2014-05-01-09</td>\n",
       "    </tr>\n",
       "  </tbody>\n",
       "</table>\n",
       "</div>"
      ],
      "text/plain": [
       "   Unnamed: 0  fare_amount      pickup_datetime  passenger_count  weekday  \\\n",
       "0           0         12.5  2014-02-19 07:22:00                1        2   \n",
       "1           1          4.0  2014-12-06 20:36:22                1        5   \n",
       "2           2          5.5  2014-02-19 16:03:00                1        2   \n",
       "3           3          5.0  2014-07-16 10:57:00                6        2   \n",
       "4           4          7.0  2014-05-01 09:12:00                6        3   \n",
       "\n",
       "   weekend  day_night  distance                            neighborhood  \\\n",
       "0        0          1  1.619554        ('Theater District', 'Gramercy')   \n",
       "1        1          0  0.247719              ('Murray Hill', 'Midtown')   \n",
       "2        0          1  0.541562         ('Midtown', 'Theater District')   \n",
       "3        0          1  0.267995                  ('Chelsea', 'Chelsea')   \n",
       "4        0          1  0.901087  ('Upper East Side', 'Upper West Side')   \n",
       "\n",
       "         datekey  \n",
       "0  2014-02-19-07  \n",
       "1  2014-12-06-20  \n",
       "2  2014-02-19-16  \n",
       "3  2014-07-16-10  \n",
       "4  2014-05-01-09  "
      ]
     },
     "execution_count": 282,
     "metadata": {},
     "output_type": "execute_result"
    }
   ],
   "source": [
    "traincsv.head()"
   ]
  },
  {
   "cell_type": "code",
   "execution_count": 314,
   "metadata": {},
   "outputs": [],
   "source": [
    "trainfinal = pd.merge(traincsv, outcome4df, on='datekey')"
   ]
  },
  {
   "cell_type": "code",
   "execution_count": 315,
   "metadata": {
    "scrolled": true
   },
   "outputs": [
    {
     "data": {
      "text/html": [
       "<div>\n",
       "<style scoped>\n",
       "    .dataframe tbody tr th:only-of-type {\n",
       "        vertical-align: middle;\n",
       "    }\n",
       "\n",
       "    .dataframe tbody tr th {\n",
       "        vertical-align: top;\n",
       "    }\n",
       "\n",
       "    .dataframe thead th {\n",
       "        text-align: right;\n",
       "    }\n",
       "</style>\n",
       "<table border=\"1\" class=\"dataframe\">\n",
       "  <thead>\n",
       "    <tr style=\"text-align: right;\">\n",
       "      <th></th>\n",
       "      <th>Unnamed: 0</th>\n",
       "      <th>fare_amount</th>\n",
       "      <th>pickup_datetime</th>\n",
       "      <th>passenger_count</th>\n",
       "      <th>weekday</th>\n",
       "      <th>weekend</th>\n",
       "      <th>day_night</th>\n",
       "      <th>distance</th>\n",
       "      <th>neighborhood</th>\n",
       "      <th>datekey</th>\n",
       "      <th>tripPerHour</th>\n",
       "      <th>holiday</th>\n",
       "    </tr>\n",
       "  </thead>\n",
       "  <tbody>\n",
       "    <tr>\n",
       "      <th>0</th>\n",
       "      <td>0</td>\n",
       "      <td>12.5</td>\n",
       "      <td>2014-02-19 07:22:00</td>\n",
       "      <td>1</td>\n",
       "      <td>2</td>\n",
       "      <td>0</td>\n",
       "      <td>1</td>\n",
       "      <td>1.619554</td>\n",
       "      <td>('Theater District', 'Gramercy')</td>\n",
       "      <td>2014-02-19-07</td>\n",
       "      <td>1066</td>\n",
       "      <td>0</td>\n",
       "    </tr>\n",
       "    <tr>\n",
       "      <th>1</th>\n",
       "      <td>12023</td>\n",
       "      <td>10.5</td>\n",
       "      <td>2014-02-19 07:56:58</td>\n",
       "      <td>1</td>\n",
       "      <td>2</td>\n",
       "      <td>0</td>\n",
       "      <td>1</td>\n",
       "      <td>1.789184</td>\n",
       "      <td>('Upper East Side', 'Murray Hill')</td>\n",
       "      <td>2014-02-19-07</td>\n",
       "      <td>1066</td>\n",
       "      <td>0</td>\n",
       "    </tr>\n",
       "    <tr>\n",
       "      <th>2</th>\n",
       "      <td>12053</td>\n",
       "      <td>8.0</td>\n",
       "      <td>2014-02-19 07:13:27</td>\n",
       "      <td>1</td>\n",
       "      <td>2</td>\n",
       "      <td>0</td>\n",
       "      <td>1</td>\n",
       "      <td>1.697914</td>\n",
       "      <td>('Gramercy', 'Midtown')</td>\n",
       "      <td>2014-02-19-07</td>\n",
       "      <td>1066</td>\n",
       "      <td>0</td>\n",
       "    </tr>\n",
       "    <tr>\n",
       "      <th>3</th>\n",
       "      <td>49876</td>\n",
       "      <td>20.5</td>\n",
       "      <td>2014-02-19 07:33:52</td>\n",
       "      <td>2</td>\n",
       "      <td>2</td>\n",
       "      <td>0</td>\n",
       "      <td>1</td>\n",
       "      <td>1.720657</td>\n",
       "      <td>('Upper East Side', 'Midtown')</td>\n",
       "      <td>2014-02-19-07</td>\n",
       "      <td>1066</td>\n",
       "      <td>0</td>\n",
       "    </tr>\n",
       "    <tr>\n",
       "      <th>4</th>\n",
       "      <td>55889</td>\n",
       "      <td>25.0</td>\n",
       "      <td>2014-02-19 07:09:00</td>\n",
       "      <td>1</td>\n",
       "      <td>2</td>\n",
       "      <td>0</td>\n",
       "      <td>1</td>\n",
       "      <td>4.554564</td>\n",
       "      <td>('Upper East Side', 'Battery Park City')</td>\n",
       "      <td>2014-02-19-07</td>\n",
       "      <td>1066</td>\n",
       "      <td>0</td>\n",
       "    </tr>\n",
       "  </tbody>\n",
       "</table>\n",
       "</div>"
      ],
      "text/plain": [
       "   Unnamed: 0  fare_amount      pickup_datetime  passenger_count  weekday  \\\n",
       "0           0         12.5  2014-02-19 07:22:00                1        2   \n",
       "1       12023         10.5  2014-02-19 07:56:58                1        2   \n",
       "2       12053          8.0  2014-02-19 07:13:27                1        2   \n",
       "3       49876         20.5  2014-02-19 07:33:52                2        2   \n",
       "4       55889         25.0  2014-02-19 07:09:00                1        2   \n",
       "\n",
       "   weekend  day_night  distance                              neighborhood  \\\n",
       "0        0          1  1.619554          ('Theater District', 'Gramercy')   \n",
       "1        0          1  1.789184        ('Upper East Side', 'Murray Hill')   \n",
       "2        0          1  1.697914                   ('Gramercy', 'Midtown')   \n",
       "3        0          1  1.720657            ('Upper East Side', 'Midtown')   \n",
       "4        0          1  4.554564  ('Upper East Side', 'Battery Park City')   \n",
       "\n",
       "         datekey  tripPerHour  holiday  \n",
       "0  2014-02-19-07         1066        0  \n",
       "1  2014-02-19-07         1066        0  \n",
       "2  2014-02-19-07         1066        0  \n",
       "3  2014-02-19-07         1066        0  \n",
       "4  2014-02-19-07         1066        0  "
      ]
     },
     "execution_count": 315,
     "metadata": {},
     "output_type": "execute_result"
    }
   ],
   "source": [
    "trainfinal.head()"
   ]
  },
  {
   "cell_type": "code",
   "execution_count": 316,
   "metadata": {},
   "outputs": [
    {
     "data": {
      "text/plain": [
       "(7986341, 12)"
      ]
     },
     "execution_count": 316,
     "metadata": {},
     "output_type": "execute_result"
    }
   ],
   "source": [
    "trainfinal.shape"
   ]
  },
  {
   "cell_type": "code",
   "execution_count": 317,
   "metadata": {},
   "outputs": [],
   "source": [
    "trainfinal.drop(['Unnamed: 0', 'pickup_datetime'], axis=1, inplace=True)"
   ]
  },
  {
   "cell_type": "code",
   "execution_count": 320,
   "metadata": {
    "scrolled": true
   },
   "outputs": [
    {
     "data": {
      "text/html": [
       "<div>\n",
       "<style scoped>\n",
       "    .dataframe tbody tr th:only-of-type {\n",
       "        vertical-align: middle;\n",
       "    }\n",
       "\n",
       "    .dataframe tbody tr th {\n",
       "        vertical-align: top;\n",
       "    }\n",
       "\n",
       "    .dataframe thead th {\n",
       "        text-align: right;\n",
       "    }\n",
       "</style>\n",
       "<table border=\"1\" class=\"dataframe\">\n",
       "  <thead>\n",
       "    <tr style=\"text-align: right;\">\n",
       "      <th></th>\n",
       "      <th>fare_amount</th>\n",
       "      <th>passenger_count</th>\n",
       "      <th>weekday</th>\n",
       "      <th>weekend</th>\n",
       "      <th>day_night</th>\n",
       "      <th>distance</th>\n",
       "      <th>neighborhood</th>\n",
       "      <th>datekey</th>\n",
       "      <th>tripPerHour</th>\n",
       "      <th>holiday</th>\n",
       "    </tr>\n",
       "  </thead>\n",
       "  <tbody>\n",
       "    <tr>\n",
       "      <th>0</th>\n",
       "      <td>12.5</td>\n",
       "      <td>1</td>\n",
       "      <td>2</td>\n",
       "      <td>0</td>\n",
       "      <td>1</td>\n",
       "      <td>1.619554</td>\n",
       "      <td>('Theater District', 'Gramercy')</td>\n",
       "      <td>2014-02-19-07</td>\n",
       "      <td>1066</td>\n",
       "      <td>0</td>\n",
       "    </tr>\n",
       "    <tr>\n",
       "      <th>1</th>\n",
       "      <td>10.5</td>\n",
       "      <td>1</td>\n",
       "      <td>2</td>\n",
       "      <td>0</td>\n",
       "      <td>1</td>\n",
       "      <td>1.789184</td>\n",
       "      <td>('Upper East Side', 'Murray Hill')</td>\n",
       "      <td>2014-02-19-07</td>\n",
       "      <td>1066</td>\n",
       "      <td>0</td>\n",
       "    </tr>\n",
       "    <tr>\n",
       "      <th>2</th>\n",
       "      <td>8.0</td>\n",
       "      <td>1</td>\n",
       "      <td>2</td>\n",
       "      <td>0</td>\n",
       "      <td>1</td>\n",
       "      <td>1.697914</td>\n",
       "      <td>('Gramercy', 'Midtown')</td>\n",
       "      <td>2014-02-19-07</td>\n",
       "      <td>1066</td>\n",
       "      <td>0</td>\n",
       "    </tr>\n",
       "    <tr>\n",
       "      <th>3</th>\n",
       "      <td>20.5</td>\n",
       "      <td>2</td>\n",
       "      <td>2</td>\n",
       "      <td>0</td>\n",
       "      <td>1</td>\n",
       "      <td>1.720657</td>\n",
       "      <td>('Upper East Side', 'Midtown')</td>\n",
       "      <td>2014-02-19-07</td>\n",
       "      <td>1066</td>\n",
       "      <td>0</td>\n",
       "    </tr>\n",
       "    <tr>\n",
       "      <th>4</th>\n",
       "      <td>25.0</td>\n",
       "      <td>1</td>\n",
       "      <td>2</td>\n",
       "      <td>0</td>\n",
       "      <td>1</td>\n",
       "      <td>4.554564</td>\n",
       "      <td>('Upper East Side', 'Battery Park City')</td>\n",
       "      <td>2014-02-19-07</td>\n",
       "      <td>1066</td>\n",
       "      <td>0</td>\n",
       "    </tr>\n",
       "  </tbody>\n",
       "</table>\n",
       "</div>"
      ],
      "text/plain": [
       "   fare_amount  passenger_count  weekday  weekend  day_night  distance  \\\n",
       "0         12.5                1        2        0          1  1.619554   \n",
       "1         10.5                1        2        0          1  1.789184   \n",
       "2          8.0                1        2        0          1  1.697914   \n",
       "3         20.5                2        2        0          1  1.720657   \n",
       "4         25.0                1        2        0          1  4.554564   \n",
       "\n",
       "                               neighborhood        datekey  tripPerHour  \\\n",
       "0          ('Theater District', 'Gramercy')  2014-02-19-07         1066   \n",
       "1        ('Upper East Side', 'Murray Hill')  2014-02-19-07         1066   \n",
       "2                   ('Gramercy', 'Midtown')  2014-02-19-07         1066   \n",
       "3            ('Upper East Side', 'Midtown')  2014-02-19-07         1066   \n",
       "4  ('Upper East Side', 'Battery Park City')  2014-02-19-07         1066   \n",
       "\n",
       "   holiday  \n",
       "0        0  \n",
       "1        0  \n",
       "2        0  \n",
       "3        0  \n",
       "4        0  "
      ]
     },
     "execution_count": 320,
     "metadata": {},
     "output_type": "execute_result"
    }
   ],
   "source": [
    "trainfinal.head()"
   ]
  },
  {
   "cell_type": "code",
   "execution_count": 323,
   "metadata": {},
   "outputs": [],
   "source": [
    "trainfinal.to_csv('2014_nyc_taxi_trips_neighbor_final.csv')"
   ]
  },
  {
   "cell_type": "code",
   "execution_count": null,
   "metadata": {},
   "outputs": [],
   "source": []
  }
 ],
 "metadata": {
  "kernelspec": {
   "display_name": "Python 3",
   "language": "python",
   "name": "python3"
  },
  "language_info": {
   "codemirror_mode": {
    "name": "ipython",
    "version": 3
   },
   "file_extension": ".py",
   "mimetype": "text/x-python",
   "name": "python",
   "nbconvert_exporter": "python",
   "pygments_lexer": "ipython3",
   "version": "3.7.1"
  }
 },
 "nbformat": 4,
 "nbformat_minor": 2
}
