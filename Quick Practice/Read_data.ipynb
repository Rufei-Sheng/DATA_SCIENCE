{
 "cells": [
  {
   "cell_type": "code",
   "execution_count": 30,
   "metadata": {},
   "outputs": [
    {
     "name": "stdout",
     "output_type": "stream",
     "text": [
      "Populating the interactive namespace from numpy and matplotlib\n"
     ]
    }
   ],
   "source": [
    "from __future__ import print_function\n",
    "\n",
    "%pylab inline\n",
    "import os\n",
    "import pandas as pd"
   ]
  },
  {
   "cell_type": "markdown",
   "metadata": {},
   "source": [
    "## DOWNLOAD FORM CSV LINK"
   ]
  },
  {
   "cell_type": "code",
   "execution_count": 55,
   "metadata": {
    "scrolled": true
   },
   "outputs": [
    {
     "name": "stdout",
     "output_type": "stream",
     "text": [
      "  % Total    % Received % Xferd  Average Speed   Time    Time     Time  Current\n",
      "                                 Dload  Upload   Total   Spent    Left  Speed\n",
      "100 28339    0 28339    0     0   136k      0 --:--:-- --:--:-- --:--:--  135k\n"
     ]
    }
   ],
   "source": [
    "!curl https://data.cityofnewyork.us/api/views/f9bf-2cp4/rows.csv?accessType=DOWNLOAD > SATresults.CSV"
   ]
  },
  {
   "cell_type": "code",
   "execution_count": 56,
   "metadata": {},
   "outputs": [
    {
     "name": "stdout",
     "output_type": "stream",
     "text": [
      "PUIdata /nfshome/rs6431/PUIdata\n",
      "/nfshome/rs6431/PUIdata\n"
     ]
    }
   ],
   "source": [
    "os.environ[\"PUIDATA\"] = \"%s/PUIdata\"%os.getenv(\"HOME\")\n",
    "puidata = os.getenv(\"PUIDATA\")\n",
    "print(\"PUIdata\", os.getenv(\"PUIDATA\"))\n",
    "print(puidata)"
   ]
  },
  {
   "cell_type": "code",
   "execution_count": 57,
   "metadata": {},
   "outputs": [],
   "source": [
    "!mv SATresults.CSV $PUIDATA"
   ]
  },
  {
   "cell_type": "code",
   "execution_count": 58,
   "metadata": {
    "scrolled": true
   },
   "outputs": [
    {
     "name": "stdout",
     "output_type": "stream",
     "text": [
      "SATresults.CSV\r\n"
     ]
    }
   ],
   "source": [
    "!ls $PUIDATA"
   ]
  },
  {
   "cell_type": "markdown",
   "metadata": {},
   "source": [
    "## Read Data from Json Link"
   ]
  },
  {
   "cell_type": "code",
   "execution_count": 67,
   "metadata": {},
   "outputs": [],
   "source": [
    "url = \"https://data.cityofnewyork.us/resource/2mgv-suig.json\""
   ]
  },
  {
   "cell_type": "code",
   "execution_count": 68,
   "metadata": {},
   "outputs": [],
   "source": [
    "WebVisit = pd.read_json(url)"
   ]
  },
  {
   "cell_type": "code",
   "execution_count": 69,
   "metadata": {},
   "outputs": [
    {
     "data": {
      "text/html": [
       "<div>\n",
       "<table border=\"1\" class=\"dataframe\">\n",
       "  <thead>\n",
       "    <tr style=\"text-align: right;\">\n",
       "      <th></th>\n",
       "      <th>avg_view_time_sec</th>\n",
       "      <th>page</th>\n",
       "      <th>page_views</th>\n",
       "      <th>time_period</th>\n",
       "      <th>title</th>\n",
       "      <th>visits</th>\n",
       "    </tr>\n",
       "  </thead>\n",
       "  <tbody>\n",
       "    <tr>\n",
       "      <th>0</th>\n",
       "      <td>42.10</td>\n",
       "      <td>http://www1.nyc.gov/site/mocs/</td>\n",
       "      <td>2164</td>\n",
       "      <td>Oct-15</td>\n",
       "      <td>Mayor's Office of Contract Services</td>\n",
       "      <td>1502</td>\n",
       "    </tr>\n",
       "    <tr>\n",
       "      <th>1</th>\n",
       "      <td>42.33</td>\n",
       "      <td>http://www1.nyc.gov/citipay</td>\n",
       "      <td>11</td>\n",
       "      <td>May-16</td>\n",
       "      <td>NYC</td>\n",
       "      <td>11</td>\n",
       "    </tr>\n",
       "    <tr>\n",
       "      <th>2</th>\n",
       "      <td>41.75</td>\n",
       "      <td>http://www1.nyc.gov/events/ready-new-york-fair...</td>\n",
       "      <td>9</td>\n",
       "      <td>May-16</td>\n",
       "      <td>NaN</td>\n",
       "      <td>8</td>\n",
       "    </tr>\n",
       "    <tr>\n",
       "      <th>3</th>\n",
       "      <td>270.17</td>\n",
       "      <td>http://www1.nyc.gov/events/spring-birding/16959/1</td>\n",
       "      <td>10</td>\n",
       "      <td>Mar-16</td>\n",
       "      <td>NaN</td>\n",
       "      <td>8</td>\n",
       "    </tr>\n",
       "    <tr>\n",
       "      <th>4</th>\n",
       "      <td>236.47</td>\n",
       "      <td>http://www1.nyc.gov/office-of-the-mayor/news/1...</td>\n",
       "      <td>86</td>\n",
       "      <td>May-16</td>\n",
       "      <td>Mayor de Blasio Announces Tentative Contract A...</td>\n",
       "      <td>74</td>\n",
       "    </tr>\n",
       "    <tr>\n",
       "      <th>5</th>\n",
       "      <td>284.50</td>\n",
       "      <td>http://www1.nyc.gov/site/planning/zoning/zone/...</td>\n",
       "      <td>15</td>\n",
       "      <td>Mar-16</td>\n",
       "      <td>NYC</td>\n",
       "      <td>14</td>\n",
       "    </tr>\n",
       "    <tr>\n",
       "      <th>6</th>\n",
       "      <td>433.83</td>\n",
       "      <td>http://www1.nyc.gov/office-of-the-mayor/news/6...</td>\n",
       "      <td>33</td>\n",
       "      <td>Aug-16</td>\n",
       "      <td>Mayor de Blasio Hosts a Press Conference Regar...</td>\n",
       "      <td>29</td>\n",
       "    </tr>\n",
       "    <tr>\n",
       "      <th>7</th>\n",
       "      <td>348.29</td>\n",
       "      <td>http://65.55.108.4/proxy.ashx</td>\n",
       "      <td>41</td>\n",
       "      <td>Jun-16</td>\n",
       "      <td>Welcome to NYC.gov | City of New York</td>\n",
       "      <td>17</td>\n",
       "    </tr>\n",
       "  </tbody>\n",
       "</table>\n",
       "</div>"
      ],
      "text/plain": [
       "   avg_view_time_sec                                               page  \\\n",
       "0              42.10                     http://www1.nyc.gov/site/mocs/   \n",
       "1              42.33                        http://www1.nyc.gov/citipay   \n",
       "2              41.75  http://www1.nyc.gov/events/ready-new-york-fair...   \n",
       "3             270.17  http://www1.nyc.gov/events/spring-birding/16959/1   \n",
       "4             236.47  http://www1.nyc.gov/office-of-the-mayor/news/1...   \n",
       "5             284.50  http://www1.nyc.gov/site/planning/zoning/zone/...   \n",
       "6             433.83  http://www1.nyc.gov/office-of-the-mayor/news/6...   \n",
       "7             348.29                      http://65.55.108.4/proxy.ashx   \n",
       "\n",
       "   page_views time_period                                              title  \\\n",
       "0        2164      Oct-15                Mayor's Office of Contract Services   \n",
       "1          11      May-16                                                NYC   \n",
       "2           9      May-16                                                NaN   \n",
       "3          10      Mar-16                                                NaN   \n",
       "4          86      May-16  Mayor de Blasio Announces Tentative Contract A...   \n",
       "5          15      Mar-16                                                NYC   \n",
       "6          33      Aug-16  Mayor de Blasio Hosts a Press Conference Regar...   \n",
       "7          41      Jun-16              Welcome to NYC.gov | City of New York   \n",
       "\n",
       "   visits  \n",
       "0    1502  \n",
       "1      11  \n",
       "2       8  \n",
       "3       8  \n",
       "4      74  \n",
       "5      14  \n",
       "6      29  \n",
       "7      17  "
      ]
     },
     "execution_count": 69,
     "metadata": {},
     "output_type": "execute_result"
    }
   ],
   "source": [
    "WebVisit.head(8)"
   ]
  },
  {
   "cell_type": "code",
   "execution_count": 70,
   "metadata": {},
   "outputs": [
    {
     "data": {
      "text/html": [
       "<div>\n",
       "<table border=\"1\" class=\"dataframe\">\n",
       "  <thead>\n",
       "    <tr style=\"text-align: right;\">\n",
       "      <th></th>\n",
       "      <th>avg_view_time_sec</th>\n",
       "      <th>page</th>\n",
       "      <th>page_views</th>\n",
       "      <th>time_period</th>\n",
       "      <th>title</th>\n",
       "      <th>visits</th>\n",
       "    </tr>\n",
       "  </thead>\n",
       "  <tbody>\n",
       "    <tr>\n",
       "      <th>997</th>\n",
       "      <td>138.02</td>\n",
       "      <td>http://www.nyc.gov/html/dhs/html/LINC-Rental-S...</td>\n",
       "      <td>2760</td>\n",
       "      <td>Dec-15</td>\n",
       "      <td>Living in Communities (LINC) Rental Documents</td>\n",
       "      <td>1208</td>\n",
       "    </tr>\n",
       "    <tr>\n",
       "      <th>998</th>\n",
       "      <td>151.88</td>\n",
       "      <td>http://www1.nyc.gov/site/mocs/resources/forms....</td>\n",
       "      <td>12297</td>\n",
       "      <td>Feb-16</td>\n",
       "      <td>Forms</td>\n",
       "      <td>6098</td>\n",
       "    </tr>\n",
       "    <tr>\n",
       "      <th>999</th>\n",
       "      <td>18.80</td>\n",
       "      <td>http://www1.nyc.gov/booker/service/nyc-resourc...</td>\n",
       "      <td>1215</td>\n",
       "      <td>Dec-15</td>\n",
       "      <td>311 Booker: Illegal Parking Complaint</td>\n",
       "      <td>940</td>\n",
       "    </tr>\n",
       "  </tbody>\n",
       "</table>\n",
       "</div>"
      ],
      "text/plain": [
       "     avg_view_time_sec                                               page  \\\n",
       "997             138.02  http://www.nyc.gov/html/dhs/html/LINC-Rental-S...   \n",
       "998             151.88  http://www1.nyc.gov/site/mocs/resources/forms....   \n",
       "999              18.80  http://www1.nyc.gov/booker/service/nyc-resourc...   \n",
       "\n",
       "     page_views time_period                                          title  \\\n",
       "997        2760      Dec-15  Living in Communities (LINC) Rental Documents   \n",
       "998       12297      Feb-16                                          Forms   \n",
       "999        1215      Dec-15          311 Booker: Illegal Parking Complaint   \n",
       "\n",
       "     visits  \n",
       "997    1208  \n",
       "998    6098  \n",
       "999     940  "
      ]
     },
     "execution_count": 70,
     "metadata": {},
     "output_type": "execute_result"
    }
   ],
   "source": [
    "WebVisit.tail(3)"
   ]
  },
  {
   "cell_type": "code",
   "execution_count": 71,
   "metadata": {},
   "outputs": [
    {
     "data": {
      "text/plain": [
       "Index(['avg_view_time_sec', 'page', 'page_views', 'time_period', 'title',\n",
       "       'visits'],\n",
       "      dtype='object')"
      ]
     },
     "execution_count": 71,
     "metadata": {},
     "output_type": "execute_result"
    }
   ],
   "source": [
    "WebVisit.columns"
   ]
  },
  {
   "cell_type": "code",
   "execution_count": 72,
   "metadata": {},
   "outputs": [],
   "source": [
    "WebVisit_2c = WebVisit[['time_period','visits']]"
   ]
  },
  {
   "cell_type": "code",
   "execution_count": 73,
   "metadata": {
    "scrolled": true
   },
   "outputs": [
    {
     "data": {
      "text/html": [
       "<div>\n",
       "<table border=\"1\" class=\"dataframe\">\n",
       "  <thead>\n",
       "    <tr style=\"text-align: right;\">\n",
       "      <th></th>\n",
       "      <th>time_period</th>\n",
       "      <th>visits</th>\n",
       "    </tr>\n",
       "  </thead>\n",
       "  <tbody>\n",
       "    <tr>\n",
       "      <th>0</th>\n",
       "      <td>Oct-15</td>\n",
       "      <td>1502</td>\n",
       "    </tr>\n",
       "    <tr>\n",
       "      <th>1</th>\n",
       "      <td>May-16</td>\n",
       "      <td>11</td>\n",
       "    </tr>\n",
       "    <tr>\n",
       "      <th>2</th>\n",
       "      <td>May-16</td>\n",
       "      <td>8</td>\n",
       "    </tr>\n",
       "    <tr>\n",
       "      <th>3</th>\n",
       "      <td>Mar-16</td>\n",
       "      <td>8</td>\n",
       "    </tr>\n",
       "    <tr>\n",
       "      <th>4</th>\n",
       "      <td>May-16</td>\n",
       "      <td>74</td>\n",
       "    </tr>\n",
       "  </tbody>\n",
       "</table>\n",
       "</div>"
      ],
      "text/plain": [
       "  time_period  visits\n",
       "0      Oct-15    1502\n",
       "1      May-16      11\n",
       "2      May-16       8\n",
       "3      Mar-16       8\n",
       "4      May-16      74"
      ]
     },
     "execution_count": 73,
     "metadata": {},
     "output_type": "execute_result"
    }
   ],
   "source": [
    "WebVisit_2c.head()"
   ]
  },
  {
   "cell_type": "code",
   "execution_count": 74,
   "metadata": {},
   "outputs": [
    {
     "data": {
      "text/plain": [
       "time_period    object\n",
       "visits          int64\n",
       "dtype: object"
      ]
     },
     "execution_count": 74,
     "metadata": {},
     "output_type": "execute_result"
    }
   ],
   "source": [
    "WebVisit_2c.dtypes"
   ]
  },
  {
   "cell_type": "code",
   "execution_count": 75,
   "metadata": {},
   "outputs": [
    {
     "name": "stderr",
     "output_type": "stream",
     "text": [
      "/usr/local/Anaconda3-5.0.0-Linux-x86_64/envs/PUI2016_Python3/lib/python3.5/site-packages/ipykernel/__main__.py:1: SettingWithCopyWarning: \n",
      "A value is trying to be set on a copy of a slice from a DataFrame.\n",
      "Try using .loc[row_indexer,col_indexer] = value instead\n",
      "\n",
      "See the caveats in the documentation: http://pandas.pydata.org/pandas-docs/stable/indexing.html#indexing-view-versus-copy\n",
      "  if __name__ == '__main__':\n"
     ]
    }
   ],
   "source": [
    "WebVisit_2c['time_period']=pd.to_datetime(WebVisit_2c.time_period, format='%b-%y')"
   ]
  },
  {
   "cell_type": "code",
   "execution_count": 76,
   "metadata": {},
   "outputs": [
    {
     "data": {
      "text/html": [
       "<div>\n",
       "<table border=\"1\" class=\"dataframe\">\n",
       "  <thead>\n",
       "    <tr style=\"text-align: right;\">\n",
       "      <th></th>\n",
       "      <th>time_period</th>\n",
       "      <th>visits</th>\n",
       "    </tr>\n",
       "  </thead>\n",
       "  <tbody>\n",
       "    <tr>\n",
       "      <th>0</th>\n",
       "      <td>2015-10-01</td>\n",
       "      <td>1502</td>\n",
       "    </tr>\n",
       "    <tr>\n",
       "      <th>1</th>\n",
       "      <td>2016-05-01</td>\n",
       "      <td>11</td>\n",
       "    </tr>\n",
       "    <tr>\n",
       "      <th>2</th>\n",
       "      <td>2016-05-01</td>\n",
       "      <td>8</td>\n",
       "    </tr>\n",
       "    <tr>\n",
       "      <th>3</th>\n",
       "      <td>2016-03-01</td>\n",
       "      <td>8</td>\n",
       "    </tr>\n",
       "    <tr>\n",
       "      <th>4</th>\n",
       "      <td>2016-05-01</td>\n",
       "      <td>74</td>\n",
       "    </tr>\n",
       "  </tbody>\n",
       "</table>\n",
       "</div>"
      ],
      "text/plain": [
       "  time_period  visits\n",
       "0  2015-10-01    1502\n",
       "1  2016-05-01      11\n",
       "2  2016-05-01       8\n",
       "3  2016-03-01       8\n",
       "4  2016-05-01      74"
      ]
     },
     "execution_count": 76,
     "metadata": {},
     "output_type": "execute_result"
    }
   ],
   "source": [
    "WebVisit_2c.head()"
   ]
  },
  {
   "cell_type": "code",
   "execution_count": 77,
   "metadata": {},
   "outputs": [
    {
     "name": "stderr",
     "output_type": "stream",
     "text": [
      "/usr/local/Anaconda3-5.0.0-Linux-x86_64/envs/PUI2016_Python3/lib/python3.5/site-packages/pandas/core/frame.py:2754: SettingWithCopyWarning: \n",
      "A value is trying to be set on a copy of a slice from a DataFrame\n",
      "\n",
      "See the caveats in the documentation: http://pandas.pydata.org/pandas-docs/stable/indexing.html#indexing-view-versus-copy\n",
      "  **kwargs)\n"
     ]
    }
   ],
   "source": [
    "WebVisit_2c.rename(columns={'time_period':'time period'}, inplace=True)"
   ]
  },
  {
   "cell_type": "code",
   "execution_count": 78,
   "metadata": {},
   "outputs": [
    {
     "data": {
      "text/plain": [
       "Text(0,0.5,'number')"
      ]
     },
     "execution_count": 78,
     "metadata": {},
     "output_type": "execute_result"
    },
    {
     "data": {
      "image/png": "[encoded data removed]",
      "text/plain": [
       "<matplotlib.figure.Figure at 0x7ff245486da0>"
      ]
     },
     "metadata": {},
     "output_type": "display_data"
    }
   ],
   "source": [
    "ax = WebVisit_2c.plot(x='time period', y='visits')\n",
    "ax.set_ylabel('number')"
   ]
  },
  {
   "cell_type": "markdown",
   "metadata": {},
   "source": [
    "Figure 2: Number of visitors visit the NYC.gov website as a function of time by month during 2015 and 2016. The number peaks in the end of 2015 and the begining of 2016, while declined sharply after Feb.2016 and nealy has no visitors since then. "
   ]
  },
  {
   "cell_type": "code",
   "execution_count": null,
   "metadata": {},
   "outputs": [],
   "source": []
  }
 ],
 "metadata": {
  "kernelspec": {
   "display_name": "Python 3",
   "language": "python",
   "name": "python3"
  },
  "language_info": {
   "codemirror_mode": {
    "name": "ipython",
    "version": 3
   },
   "file_extension": ".py",
   "mimetype": "text/x-python",
   "name": "python",
   "nbconvert_exporter": "python",
   "pygments_lexer": "ipython3",
   "version": "3.7.3"
  }
 },
 "nbformat": 4,
 "nbformat_minor": 2
}
